{
 "cells": [
  {
   "cell_type": "markdown",
   "metadata": {},
   "source": [
    "### How long does it take to get out of the well?"
   ]
  },
  {
   "cell_type": "code",
   "execution_count": 1,
   "metadata": {},
   "outputs": [
    {
     "name": "stdout",
     "output_type": "stream",
     "text": [
      "The snail takes 6 days to get out of the well\n"
     ]
    }
   ],
   "source": [
    "well_height = 125\n",
    "daily_climb = [30, 21, 33, 77, 44, 45, 23, 45, 12, 34, 55]\n",
    "nightly_fall = 20\n",
    "total_distance = 0\n",
    "total_days = 0\n",
    "\n",
    "\n",
    "for i in (range(0,len(daily_climb))):\n",
    "    if total_distance < well_height:\n",
    "        total_distance = total_distance + daily_climb[i] - nightly_fall\n",
    "    else:\n",
    "        break \n",
    "total_days = i\n",
    "\n",
    "print(\"The snail takes\",total_days,\"days to get out of the well\")"
   ]
  },
  {
   "cell_type": "markdown",
   "metadata": {},
   "source": [
    "### What is its maximum displacement in one day?"
   ]
  },
  {
   "cell_type": "code",
   "execution_count": 2,
   "metadata": {},
   "outputs": [
    {
     "name": "stdout",
     "output_type": "stream",
     "text": [
      "the maximum displacement in one day was 57 at day 3\n"
     ]
    }
   ],
   "source": [
    "print(\"the maximum displacement in one day was\", (max(daily_climb[:total_days])-nightly_fall), \"at day\", daily_climb.index((max(daily_climb[:total_days]))))"
   ]
  },
  {
   "cell_type": "markdown",
   "metadata": {},
   "source": [
    "### And its minimum displacement in one day?"
   ]
  },
  {
   "cell_type": "code",
   "execution_count": 3,
   "metadata": {},
   "outputs": [
    {
     "name": "stdout",
     "output_type": "stream",
     "text": [
      "the minimum displacement in one day was 1 at day 1\n"
     ]
    }
   ],
   "source": [
    "print(\"the minimum displacement in one day was\", (min(daily_climb[:total_days])-nightly_fall), \"at day\", daily_climb.index((min(daily_climb[:total_days]))))"
   ]
  },
  {
   "cell_type": "markdown",
   "metadata": {},
   "source": [
    "### What is its average speed during the day?Round off your solution to one decimal place."
   ]
  },
  {
   "cell_type": "code",
   "execution_count": 5,
   "metadata": {},
   "outputs": [
    {
     "name": "stdout",
     "output_type": "stream",
     "text": [
      "The average speed during the day was 41.7 cm/day\n"
     ]
    }
   ],
   "source": [
    "speed = sum(daily_climb[:6])/(len(daily_climb[:6]))\n",
    "import numpy as np\n",
    "print(\"The average speed during the day was\",np.round(speed,1),\"cm/day\")"
   ]
  },
  {
   "cell_type": "markdown",
   "metadata": {},
   "source": [
    "### What is the standard deviation of its displacement during the day? Round off your solution to two decimal places"
   ]
  },
  {
   "cell_type": "code",
   "execution_count": 7,
   "metadata": {},
   "outputs": [
    {
     "name": "stdout",
     "output_type": "stream",
     "text": [
      "the standard deviation of its displacement during the day was 19.51\n"
     ]
    }
   ],
   "source": [
    "import statistics as stats\n",
    "std_dev = stats.stdev(daily_climb[:6])\n",
    "print(\"the standard deviation of its displacement during the day was\", np.round(std_dev,2))"
   ]
  }
 ],
 "metadata": {
  "kernelspec": {
   "display_name": "Python 3",
   "language": "python",
   "name": "python3"
  },
  "language_info": {
   "codemirror_mode": {
    "name": "ipython",
    "version": 3
   },
   "file_extension": ".py",
   "mimetype": "text/x-python",
   "name": "python",
   "nbconvert_exporter": "python",
   "pygments_lexer": "ipython3",
   "version": "3.8.5"
  }
 },
 "nbformat": 4,
 "nbformat_minor": 4
}
